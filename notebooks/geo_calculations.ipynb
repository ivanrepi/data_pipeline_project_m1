{
 "cells": [
  {
   "cell_type": "code",
   "execution_count": 3,
   "source": [
    "from shapely.geometry import Point\n",
    "import geopandas as gpd   # conda install -c conda-forge geopandas\n",
    "\n",
    "def to_mercator(lat, long):\n",
    "    # transform latitude/longitude data in degrees to pseudo-mercator coordinates in metres\n",
    "    c = gpd.GeoSeries([Point(lat, long)], crs=4326)\n",
    "    c = c.to_crs(3857)\n",
    "    return c\n",
    "\n",
    "def distance_meters(lat_start, long_start, lat_finish, long_finish):\n",
    "    # return the distance in metres between to latitude/longitude pair point in degrees (i.e.: 40.392436 / -3.6994487)\n",
    "    start = to_mercator(lat_start, long_start)\n",
    "    finish = to_mercator(lat_finish, long_finish)\n",
    "    return start.distance(finish)"
   ],
   "outputs": [],
   "metadata": {}
  },
  {
   "cell_type": "code",
   "execution_count": 5,
   "source": [
    "a= distance_meters(40.4172137, -3.7018341, 40.4172137, -3.7016)\n",
    "print(a)\n"
   ],
   "outputs": [
    {
     "output_type": "stream",
     "name": "stdout",
     "text": [
      "0    26.114376\n",
      "dtype: float64\n"
     ]
    }
   ],
   "metadata": {}
  }
 ],
 "metadata": {
  "orig_nbformat": 4,
  "language_info": {
   "name": "python",
   "version": "3.7.12",
   "mimetype": "text/x-python",
   "codemirror_mode": {
    "name": "ipython",
    "version": 3
   },
   "pygments_lexer": "ipython3",
   "nbconvert_exporter": "python",
   "file_extension": ".py"
  },
  "kernelspec": {
   "name": "python3",
   "display_name": "Python 3.10.0 64-bit ('ironhack': conda)"
  },
  "interpreter": {
   "hash": "191fdcd26a5ca84f58a127ef5d594d6ffcc31ee3b3ca4138998a92c0047be3f6"
  }
 },
 "nbformat": 4,
 "nbformat_minor": 2
}