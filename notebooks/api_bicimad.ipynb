{
 "cells": [
  {
   "cell_type": "code",
   "execution_count": 1,
   "source": [
    "import requests\n"
   ],
   "outputs": [],
   "metadata": {}
  },
  {
   "cell_type": "code",
   "execution_count": 14,
   "source": [
    "station_id=4\n",
    "url='https://openapi.emtmadrid.es/v1/transport/bicimad/stations/'+str(station_id)\n",
    "header = {'accessToken': 'cc69b23a-0339-45ad-84f8-fae8d31ab78c'}\n",
    "my_dataset=requests.get(url, headers=header).json()\n",
    "(my_dataset['data'])\n"
   ],
   "outputs": [
    {
     "output_type": "execute_result",
     "data": {
      "text/plain": [
       "[{'id': 4,\n",
       "  'name': 'Plaza Conde Suchil',\n",
       "  'light': 1,\n",
       "  'number': '3',\n",
       "  'address': 'Plaza del Conde del Valle de Súchil nº 3',\n",
       "  'activate': 1,\n",
       "  'no_available': 0,\n",
       "  'total_bases': 18,\n",
       "  'dock_bikes': 12,\n",
       "  'free_bases': 3,\n",
       "  'reservations_count': 0,\n",
       "  'geometry': {'type': 'Point', 'coordinates': [-3.7069171, 40.4302937]}}]"
      ]
     },
     "metadata": {},
     "execution_count": 14
    }
   ],
   "metadata": {}
  },
  {
   "cell_type": "code",
   "execution_count": null,
   "source": [],
   "outputs": [],
   "metadata": {}
  }
 ],
 "metadata": {
  "orig_nbformat": 4,
  "language_info": {
   "name": "python",
   "version": "3.7.12",
   "mimetype": "text/x-python",
   "codemirror_mode": {
    "name": "ipython",
    "version": 3
   },
   "pygments_lexer": "ipython3",
   "nbconvert_exporter": "python",
   "file_extension": ".py"
  },
  "kernelspec": {
   "name": "python3",
   "display_name": "Python 3.7.12 64-bit ('ironhack_project_m1': conda)"
  },
  "interpreter": {
   "hash": "965a22a7c026b7334c5606deed659b778077e3a798f7fbefa510a089ce4fc2a7"
  }
 },
 "nbformat": 4,
 "nbformat_minor": 2
}