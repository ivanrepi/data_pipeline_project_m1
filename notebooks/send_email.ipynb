{
 "cells": [
  {
   "cell_type": "code",
   "execution_count": 1,
   "source": [
    "import smtplib"
   ],
   "outputs": [],
   "metadata": {}
  },
  {
   "cell_type": "code",
   "execution_count": 4,
   "source": [
    "gmail_user = 'iv.repilado@gmail.com'\n",
    "gmail_password = input('Type admin gmail password')\n",
    "\n",
    "sent_from = gmail_user\n",
    "to = input('Please, enter your email')\n",
    "subject = 'Places of interesest + nearest BiciMad Station'\n",
    "body = 'Hello, as requested, find the table with all places of interests with their nearest BiciMad Station'\n",
    "\n",
    "email_text = \"\"\"\\\n",
    "From: %s\n",
    "To: %s\n",
    "Subject: %s\n",
    "\n",
    "%s\n",
    "\"\"\" % (sent_from, \", \".join(to), subject, body)\n",
    "\n",
    "try:\n",
    "    smtp_server = smtplib.SMTP_SSL('smtp.gmail.com', 465)\n",
    "    smtp_server.ehlo()\n",
    "    smtp_server.login(gmail_user, gmail_password)\n",
    "    smtp_server.sendmail(sent_from, to, email_text)\n",
    "    smtp_server.close()\n",
    "    print (\"Email sent successfully!\")\n",
    "except Exception as ex:\n",
    "    print (\"Something went wrong….\",ex)"
   ],
   "outputs": [
    {
     "output_type": "stream",
     "name": "stdout",
     "text": [
      "Email sent successfully!\n"
     ]
    }
   ],
   "metadata": {}
  }
 ],
 "metadata": {
  "orig_nbformat": 4,
  "language_info": {
   "name": "python",
   "version": "3.7.12",
   "mimetype": "text/x-python",
   "codemirror_mode": {
    "name": "ipython",
    "version": 3
   },
   "pygments_lexer": "ipython3",
   "nbconvert_exporter": "python",
   "file_extension": ".py"
  },
  "kernelspec": {
   "name": "python3",
   "display_name": "Python 3.7.12 64-bit ('ironhack_project_m1': conda)"
  },
  "interpreter": {
   "hash": "965a22a7c026b7334c5606deed659b778077e3a798f7fbefa510a089ce4fc2a7"
  }
 },
 "nbformat": 4,
 "nbformat_minor": 2
}